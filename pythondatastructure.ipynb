{
  "nbformat": 4,
  "nbformat_minor": 0,
  "metadata": {
    "colab": {
      "provenance": []
    },
    "kernelspec": {
      "name": "python3",
      "display_name": "Python 3"
    },
    "language_info": {
      "name": "python"
    }
  },
  "cells": [
    {
      "cell_type": "markdown",
      "source": [
        "#PYTHON DATASTRUCTURE"
      ],
      "metadata": {
        "id": "QXKL-AK8bZBh"
      }
    },
    {
      "cell_type": "markdown",
      "source": [
        "#Theoretical Questions"
      ],
      "metadata": {
        "id": "mZ_g6dbjbwPr"
      }
    },
    {
      "cell_type": "markdown",
      "source": [
        "**1**. What are data structures, and why are they important ?\n",
        "    \n",
        "  - Data structures are ways to organize and store data in a computer so it can be accessed and updated efficiently. They are important because they help you solve problems, optimize code, and improve program performance.\n",
        "  - why are they important : -\n",
        "   - Problem solving : -\n",
        "     - Data structures help you systematically approach problems and devise efficient solutions.\n",
        "   - Code optimization : -\n",
        "     - Data structures help you optimize your code and make it more efficient.\n",
        "   - Program performance : -\n",
        "     - The right data structure can reduce the time and space complexity of an algorithm, which improves its overall performance.\n",
        "   - Code reusability : -\n",
        "     - Well-designed data structures can be reused across different projects, saving time and effort."
      ],
      "metadata": {
        "id": "fkTIbqk4cLXA"
      }
    },
    {
      "cell_type": "markdown",
      "source": [
        "**2**. Explain the difference between mutable and immutable data types with examples ?\n",
        " - Mutable data types can be changed after they are created, while immutable data types cannot.\n",
        " - Benefits of mutable data types : -\n",
        "  - Mutable objects can be used to modify, add, or remove elements within the object without creating a new object.\n",
        " - Examples of mutable data types : -\n",
        "  - lists, dictionaries, sets, arrays, objects, functions, and dates.\n",
        "\n",
        " - Benefits of immutable data types : -\n",
        "  - Immutable objects are useful because they ensure data integrity and thread safety.\n",
        "  - They are also simpler to understand and reason about and offer higher security than mutable objects.\n",
        " - Examples of immutable data types : -\n",
        "  - strings, tuples, numbers, booleans, null, and undefined.  \n"
      ],
      "metadata": {
        "id": "Y_KuNlTEhGHz"
      }
    },
    {
      "cell_type": "markdown",
      "source": [
        "**3**. What are the main differences between lists and tuples in Python ?\n",
        " - Lists and tuples are both fundamental data structures in Python, used to store collections of items. However, they have key differences that dictate their use cases:\n",
        " - Mutability:\n",
        "  - Lists are mutable, meaning their elements can be changed after creation (elements can be added, removed, or modified). Tuples, on the other hand, are immutable; once created, their contents cannot be altered.\n",
        " - Syntax:\n",
        "  - Lists are defined using square brackets [], while tuples are defined using parentheses ().\n",
        " - Usage:\n",
        "  - Lists are suitable for storing collections of items that may need to be modified, while tuples are appropriate for storing fixed collections of items, ensuring data integrity.\n",
        " - Performance:\n",
        "  - Tuples are generally more memory-efficient and faster than lists, especially when dealing with large datasets, due to their immutability.\n",
        " - Methods:\n",
        "  - Lists have more built-in methods available for manipulation (e.g., append(), insert(), remove()), while tuples have fewer methods due to their immutable nature."
      ],
      "metadata": {
        "id": "tbx-8YKYjHZk"
      }
    },
    {
      "cell_type": "markdown",
      "source": [
        "**4**. Describe how dictionaries store data .\n",
        " - Dictionaries store data as unordered collections of key-value pairs, where each key is unique and maps to a specific value, allowing for efficient data retrieval based on the key.\n",
        " - Here's a more detailed explanation : -\n",
        "\n",
        " - Key-Value Pairs:\n",
        "  - Dictionaries consist of pairs, with each pair containing a \"key\" and a \"value\".\n",
        " - Uniqueness of Keys:\n",
        "  - Each key within a dictionary must be unique. You cannot have two keys with the same value.\n",
        " - Data Retrieval:\n",
        "  - You access the value associated with a key by using the key itself, rather than an index (like in lists).\n",
        " - Mutability:\n",
        "  - Dictionaries are mutable, meaning you can add, remove, or modify key-value pairs after they've been created.\n",
        " - Order:\n",
        "  - In Python 3.6 and earlier, dictionaries were unordered. However, as of Python 3.7, dictionaries are ordered, meaning the order in which key-value pairs are added is preserved.    "
      ],
      "metadata": {
        "id": "z-1o4uLznvgS"
      }
    },
    {
      "cell_type": "markdown",
      "source": [
        "**5**. Why might you use a set instead of a list in Python ?\n",
        " - A set in Python is an unordered collection of unique elements, while a list is an ordered collection that can contain duplicates. Sets offer advantages over lists in specific scenarios:\n",
        "  - Ensuring uniqueness: If the goal is to store only unique items, a set automatically handles this, eliminating the need for manual duplicate checks.\n",
        "  - Fast membership testing: Checking if an element exists in a set is significantly faster than in a list, especially for large collections. Sets use a hash-based implementation for efficient lookups.\n",
        "  - Set operations: Sets support mathematical set operations like union, intersection, and difference, which can be useful for tasks involving data comparison and manipulation.\n",
        "  - Order irrelevance: When the order of elements is not important, a set can be more suitable than a list. Sets do not maintain insertion order.\n",
        "\n",
        " - However, lists are preferred when order matters, or when duplicate elements are allowed. Lists also support indexing and slicing, which sets do not. The choice between sets and lists depends on the specific requirements of the task at hand."
      ],
      "metadata": {
        "id": "DqUpT_TpqxR3"
      }
    },
    {
      "cell_type": "markdown",
      "source": [
        "**6**. What is a string in Python, and how is it different from a list ?\n",
        " - In Python, a string is a sequence of characters, while a list is a sequence of items, that can be any type.\n",
        " - Strings are enclosed in single or double quotes while lists are enclosed in square brackets.\n",
        " - Strings are immutable, meaning values can't be changed while lists are mutable, meaning values can be changed.\n",
        " - String Contains only characters while list Can contain mixed data types.\n",
        "                    \n",
        "                            "
      ],
      "metadata": {
        "id": "YQmTx2vvuXMI"
      }
    },
    {
      "cell_type": "markdown",
      "source": [
        "**7**. How do tuples ensure data integrity in Python ?\n",
        " - Tuples in Python ensure data integrity through their immutability. Once a tuple is created, its elements cannot be modified, added, or removed.\n",
        " - This characteristic guarantees that the data stored within a tuple remains constant throughout its lifespan, preventing accidental or unauthorized changes.\n",
        " - Immutability makes tuples suitable for situations where data consistency is crucial, such as storing configuration settings, representing fixed records, or ensuring that data passed between functions remains unchanged."
      ],
      "metadata": {
        "id": "fz8buIlKzCzy"
      }
    },
    {
      "cell_type": "markdown",
      "source": [
        "**8**. What is a hash table, and how does it relate to dictionaries in Python ?\n",
        "\n",
        " - A hash table is a data structure that stores key-value pairs, where each key is unique and used to calculate the position (index) of its corresponding value in an array. This calculation is done using a hash function, which takes the key as input and produces an integer representing the index.\n",
        " - In Python, dictionaries are implemented using hash tables. When a key-value pair is added to a dictionary, Python calculates the hash value of the key and uses it to determine where to store the value. This allows for efficient retrieval of values based on their keys, typically in O(1) average time complexity.\n",
        " - However, hash collisions can occur when different keys produce the same hash value. Python handles collisions using techniques like separate chaining or open addressing, ensuring that all key-value pairs can be stored and retrieved correctly, although collisions can degrade performance to O(n) in the worst case."
      ],
      "metadata": {
        "id": "dcVURBM60z4M"
      }
    },
    {
      "cell_type": "markdown",
      "source": [
        "**9**. Can lists contain different data types in Python ?\n",
        " - Yes, lists in Python can contain elements of different data types. This flexibility is one of the key features of Python lists. A single list can hold integers, strings, floats, booleans, and even other lists or more complex objects.\n",
        " - While it's possible to mix data types in a list, it's important to consider the implications for code readability and maintainability. In many cases, it's preferable to keep lists homogeneous (containing elements of the same type) to avoid unexpected behavior when processing the list. However, there are situations where mixed-type lists can be useful, especially for storing related but different pieces of information together."
      ],
      "metadata": {
        "id": "OXXr5WMy1m6w"
      }
    },
    {
      "cell_type": "markdown",
      "source": [
        "**10**. Explain why strings are immutable in Python .\n",
        " - Python strings are immutable, meaning their contents cannot be changed after creation, to ensure data integrity, simplify memory management, and improve performance by allowing for efficient hashing and sharing of string objects.\n",
        " - Here's a more detailed explanation:\n",
        "  - Data Integrity:\n",
        "     - Immutability prevents accidental or unintended modifications to string data, ensuring that the string's value remains consistent throughout its lifetime.\n",
        "  - Memory Management:\n",
        "     - Since strings are immutable, Python can optimize memory usage by caching and reusing string objects. This is because multiple variables can point to the same string object in memory without the risk of one variable's modification affecting others.\n",
        "  - Performance:\n",
        "     - Immutability enables efficient hashing, which is crucial for using strings as keys in dictionaries and other data structures. Hashing relies on the string's content being constant, and immutability guarantees this.\n",
        "  - Predictability and Safety:\n",
        "     - Immutability makes string handling more predictable and safer, as programmers can rely on the fact that a string's value will not change unexpectedly.\n",
        "  - Concurrency:\n",
        "     - Immutable objects are inherently thread-safe, meaning multiple threads can access and use them without the risk of data corruption due to race conditions.     \n"
      ],
      "metadata": {
        "id": "UDIJMZR22Ng8"
      }
    },
    {
      "cell_type": "markdown",
      "source": [
        "**11**.  What advantages do dictionaries offer over lists for certain tasks ?\n",
        " - Dictionaries are faster than lists for tasks that involve searching for items, or looking up values. Dictionaries are also more flexible and can store more complex data structures.\n",
        " - How dictionaries are faster:\n",
        "  - Dictionaries use a technique called hashing to find values associated with keys\n",
        "  - Dictionaries are memory efficient because they only store the key-value pairs that are needed\n",
        "  - Dictionaries are flexible and can store any type of data as both the key and the value\n",
        " - Other advantages of dictionaries\n",
        "  - Dictionaries make code easier to read when generating key-value pairs\n",
        "  - Dictionaries are well-suited to storing complex data structures like graphs and databases\n",
        "  - Dictionaries map directly to JSON data, which is commonly used for APIs and web services  "
      ],
      "metadata": {
        "id": "eCEHkXjM5L4A"
      }
    },
    {
      "cell_type": "markdown",
      "source": [
        "**12**. Describe a scenario where using a tuple would be preferable over a list.\n",
        " - When representing data that should remain constant and unchangeable, such as coordinates or database records, using a tuple is preferable over a list, as tuples are immutable and offer better performance for fixed collections.\n",
        " - Here's a more detailed explanation:\n",
        "    - Immutability:\n",
        "Tuples are immutable, meaning their contents cannot be modified after creation, while lists are mutable. This immutability is crucial when you need to ensure data integrity and prevent accidental changes.\n",
        "    - Performance:\n",
        "Tuples are generally faster and more memory-efficient than lists, especially when dealing with fixed collections. This is because the Python interpreter can optimize operations on immutable data structures.\n",
        "\n",
        "- Coordinates: Representing coordinates (x, y) or (x, y, z) is a common use case for tuples, as the coordinates are typically fixed and should not be altered.\n",
        "- Database Records: When storing data from a database table, where each row represents a record with fixed attributes, a tuple is a suitable choice."
      ],
      "metadata": {
        "id": "gqxhChDvF0cn"
      }
    },
    {
      "cell_type": "markdown",
      "source": [
        "**13**. How do sets handle duplicate values in Python ?\n",
        " - Sets in Python are designed to store only unique elements. When an attempt is made to add a duplicate value to a set, the set automatically discards the duplicate, ensuring that each element within the set is unique.\n",
        " - This behavior is a fundamental characteristic of sets in Python, making them useful for tasks such as removing duplicates from a list or checking for membership without concern for repetition.\n"
      ],
      "metadata": {
        "id": "QTYeVhqrgMSu"
      }
    },
    {
      "cell_type": "markdown",
      "source": [
        "**14**. How does the “in” keyword work differently for lists and dictionaries ?\n",
        " - The in keyword checks for membership differently in lists and dictionaries: in lists, it searches for a value, while in dictionaries, it checks for the presence of a key.\n",
        " - Here's a more detailed explanation:\n",
        "   - Lists:\n",
        "    - The in operator, when used with a list, checks if a specific value exists within the list.\n",
        "    - It iterates through the list, comparing each element to the value you're searching for.\n",
        "    - Returns True if the value is found, and False otherwise.\n",
        "   - Dictionaries:\n",
        "    - The in operator, when used with a dictionary, checks if a specific key exists within the dictionary.\n",
        "    - It does not check for values, but rather for the presence of a key.\n",
        "    - Returns True if the key is found, and False otherwise.  "
      ],
      "metadata": {
        "id": "uzWCTTaEg_ev"
      }
    },
    {
      "cell_type": "markdown",
      "source": [
        "**15**. Can you modify the elements of a tuple ? Explain why or why not.\n",
        " - No, you cannot modify the elements of a tuple in Python because tuples are immutable. This means that once a tuple is created, its elements cannot be changed, added, or removed.\n",
        " - Explanation :\n",
        "\n",
        "  - Tuples are different from lists, which are mutable and can be modified.\n",
        "  - If you try to change a tuple element, you'll get a TypeError error.\n",
        "  - To create a new tuple with modified values, you need to create a new tuple and assign it to the old variable name."
      ],
      "metadata": {
        "id": "ZTx-g0GUi4Ag"
      }
    },
    {
      "cell_type": "markdown",
      "source": [
        "**16**. What is a nested dictionary, and give an example of its use case ?\n",
        " - A nested dictionary is a dictionary that is stored within another dictionary. It's a way to organize data into multiple layers.\n",
        " - Example :\n",
        "  - An organizational chart can be represented as a nested dictionary where departments are keys and the values are dictionaries of employees in each department.\n",
        " - Use cases :\n",
        "  - Employee records: Organize employees by department, with each employee's details in a nested dictionary."
      ],
      "metadata": {
        "id": "K6TYkujEj0mg"
      }
    },
    {
      "cell_type": "markdown",
      "source": [
        "**17**. Describe the time complexity of accessing elements in a dictionary.\n",
        " - The time complexity of accessing an element in a Python dictionary is O(1) on average, but can be O(n) in the worst case. The worst case occurs when there are many hash collisions or when all elements are in a single hash bucket.\n",
        " - Explanation :\n",
        "   - The time complexity of an operation depends on the size of the dictionary and the specific operation.\n",
        "   - Python uses a hashing system to automatically look for a key in the dictionary's \"shelf\" of keys. This lookup is done in O(1) time, which is very fast.\n",
        "   - Hash collisions in dictionaries can degrade O(1) operations to O(n).\n",
        "   - The worst-case complexity arises when all elements are in a single hash bucket.\n",
        " - Other dictionary operation time complexities :\n",
        "   - Adding a key-value pair: O(1) on average, O(n) worst case\n",
        "   - Modifying a value by key: O(1) on average, O(n) worst case\n",
        "   - Removing a key-value pair by key: O(1) on average, O(n) worst case\n",
        "   - Iterating over the keys, values, or items: O(n)"
      ],
      "metadata": {
        "id": "vL1pRJ3Xk5ZJ"
      }
    },
    {
      "cell_type": "markdown",
      "source": [
        "**18**. In what situations are lists preferred over dictionaries ?\n",
        " - Lists are preferred over dictionaries when the order of elements is crucial, when you need to store multiple values for an item, or when you're performing operations like appending or extending, whereas dictionaries are better for fast lookups and key-value associations."
      ],
      "metadata": {
        "id": "7rN3i8twmL1b"
      }
    },
    {
      "cell_type": "markdown",
      "source": [
        "**19**. Why are dictionaries considered unordered, and how does that affect data retrieval ?\n",
        " - Dictionaries are considered unordered because they don't maintain a specific order of elements based on insertion, prioritizing fast key-based retrieval over maintaining a sequence. This means you can't access elements by their position (like in lists), and the order in which you retrieve them might not be the same as the order they were added.\n",
        " - Here's a more detailed explanation:\n",
        "    - Unordered Nature:\n",
        "     - Unlike lists or tuples, which are ordered collections, dictionaries are designed for fast lookups using keys. The keys are not stored in any particular sequence, and the order in which you iterate through or print the dictionary's key-value pairs is not guaranteed to match the order in which they were inserted.\n",
        "    - Impact on Data Retrieval:\n",
        "     - Key-Based Access: The primary way to retrieve data from a dictionary is by using its keys. You specify a key, and the dictionary returns the corresponding value.\n",
        "     - No Index-Based Access: You cannot access elements in a dictionary using an index (like my_dict[0] or my_dict[1]) because they are not stored in a sequence.\n",
        "     - Order Not Guaranteed: If you need to process elements in a specific order, you'll need to sort the dictionary's keys or values (or both) before iterating or processing them."
      ],
      "metadata": {
        "id": "VggYYGBtmnnm"
      }
    },
    {
      "cell_type": "markdown",
      "source": [
        "**20**. Explain the difference between a list and a dictionary in terms of data retrieval.\n",
        " - In Python, the difference between data retrieval in a list and a dictionary is that lists use indices to access elements, while dictionaries use keys.\n",
        " - Explanation\n",
        "  - Lists:-\n",
        "    - Lists are ordered collections of items.\n",
        "    - Elements in a list are accessed using indices, which are integers that start at zero.\n",
        "    - Lists are good for ordered operations like sorting.\n",
        "    - Lists can contain duplicate items.\n",
        "  - Dictionaries:-\n",
        "    - Dictionaries are unordered collections of key-value pairs.\n",
        "    - Elements in a dictionary are accessed using keys, which can be of any data type.\n",
        "    - Dictionaries are good for lookup operations.\n",
        "    - Dictionaries do not allow duplicate keys."
      ],
      "metadata": {
        "id": "mV0ritPvnuW2"
      }
    },
    {
      "cell_type": "markdown",
      "source": [
        "#Practical Questions"
      ],
      "metadata": {
        "id": "No4hNDvLhmCU"
      }
    },
    {
      "cell_type": "markdown",
      "source": [
        "**1**. Write a code to create a string with your name and print it.\n",
        ""
      ],
      "metadata": {
        "id": "kYMhUrbph6MH"
      }
    },
    {
      "cell_type": "code",
      "source": [
        "my_name=\"Barsa\"\n",
        "print(my_name)"
      ],
      "metadata": {
        "colab": {
          "base_uri": "https://localhost:8080/"
        },
        "id": "GhPFI_JsjUcA",
        "outputId": "5a1a9b11-6fe5-45c9-f200-2304e2db573c"
      },
      "execution_count": 1,
      "outputs": [
        {
          "output_type": "stream",
          "name": "stdout",
          "text": [
            "Barsa\n"
          ]
        }
      ]
    },
    {
      "cell_type": "markdown",
      "source": [
        "**2**. Write a code to find the length of the string \"Hello World\" ?"
      ],
      "metadata": {
        "id": "h9kx3vH7jwXm"
      }
    },
    {
      "cell_type": "code",
      "source": [
        "str=\"Hello World\"\n",
        "length=len(str)\n",
        "print(f\"the length of the str'Hello World'is: {length}\")"
      ],
      "metadata": {
        "colab": {
          "base_uri": "https://localhost:8080/"
        },
        "id": "W4CGl1Nrj7gD",
        "outputId": "290ccf16-6693-457b-e7a2-1e73ccca2c7f"
      },
      "execution_count": 11,
      "outputs": [
        {
          "output_type": "stream",
          "name": "stdout",
          "text": [
            "the length of the str'Hello World'is: 11\n"
          ]
        }
      ]
    },
    {
      "cell_type": "markdown",
      "source": [
        "**3**. Write a code to slice the first 3 characters from the string \"Python Programming\"."
      ],
      "metadata": {
        "id": "Oqc6BLvbmISY"
      }
    },
    {
      "cell_type": "code",
      "source": [
        "str=\"Python Programming\"\n",
        "sliced_str=str[0:3]\n",
        "print(f\"the sliced string is: {sliced_str}\")"
      ],
      "metadata": {
        "colab": {
          "base_uri": "https://localhost:8080/"
        },
        "id": "e54RoYPtmXLt",
        "outputId": "1b8701fb-f96d-4ef1-8e4c-ab0e81141b2b"
      },
      "execution_count": 12,
      "outputs": [
        {
          "output_type": "stream",
          "name": "stdout",
          "text": [
            "the sliced string is: Pyt\n"
          ]
        }
      ]
    },
    {
      "cell_type": "markdown",
      "source": [
        "**4**. Write a code to convert the string \"hello\" to uppercase."
      ],
      "metadata": {
        "id": "PSfHVQe9oHUg"
      }
    },
    {
      "cell_type": "code",
      "source": [
        "str=\"hello\"\n",
        "uppercase_str=str.upper()\n",
        "print(f\"the uppercase string is: {uppercase_str}\")"
      ],
      "metadata": {
        "colab": {
          "base_uri": "https://localhost:8080/"
        },
        "id": "pXyW54dvoRg7",
        "outputId": "110d6ec2-8d73-4773-e9d6-f859e64317b1"
      },
      "execution_count": 16,
      "outputs": [
        {
          "output_type": "stream",
          "name": "stdout",
          "text": [
            "the uppercase string is: HELLO\n"
          ]
        }
      ]
    },
    {
      "cell_type": "markdown",
      "source": [
        "**5**. Write a code to replace the word \"apple\" with \"orange\" in the string \"I like apple\"."
      ],
      "metadata": {
        "id": "xGAwz94Ao7SS"
      }
    },
    {
      "cell_type": "code",
      "source": [
        "str=\"I like apple\"\n",
        "str=str.replace(\"apple\",\"orange\")\n",
        "print(f\"the replaced string is:{str}\")"
      ],
      "metadata": {
        "colab": {
          "base_uri": "https://localhost:8080/"
        },
        "id": "8TJerRfCpFZQ",
        "outputId": "80f49684-2327-401b-bd0f-fe0a6d098ad9"
      },
      "execution_count": 17,
      "outputs": [
        {
          "output_type": "stream",
          "name": "stdout",
          "text": [
            "the replaced string is:I like orange\n"
          ]
        }
      ]
    },
    {
      "cell_type": "markdown",
      "source": [
        "**6**. Write a code to create a list with numbers 1 to 5 and print it."
      ],
      "metadata": {
        "id": "ymiq8IEDrsxo"
      }
    },
    {
      "cell_type": "code",
      "source": [
        "num=[1,2,3,4,5]\n",
        "print(num)"
      ],
      "metadata": {
        "colab": {
          "base_uri": "https://localhost:8080/"
        },
        "id": "ZTETpYP4r-In",
        "outputId": "c1095c9b-57c5-4a30-d668-a7576f2cab49"
      },
      "execution_count": 18,
      "outputs": [
        {
          "output_type": "stream",
          "name": "stdout",
          "text": [
            "[1, 2, 3, 4, 5]\n"
          ]
        }
      ]
    },
    {
      "cell_type": "markdown",
      "source": [
        "**7**. Write a code to append the number 10 to the list [1, 2, 3, 4]."
      ],
      "metadata": {
        "id": "5zIelz7kshKt"
      }
    },
    {
      "cell_type": "code",
      "source": [
        "my_list=[1,2,3,4]\n",
        "my_list.append(10)\n",
        "print(my_list)"
      ],
      "metadata": {
        "colab": {
          "base_uri": "https://localhost:8080/"
        },
        "id": "xbLExbNAsq1M",
        "outputId": "eb84f7d8-4e05-4db0-f350-117a56920f26"
      },
      "execution_count": 19,
      "outputs": [
        {
          "output_type": "stream",
          "name": "stdout",
          "text": [
            "[1, 2, 3, 4, 10]\n"
          ]
        }
      ]
    },
    {
      "cell_type": "markdown",
      "source": [
        "**8**. Write a code to remove the number 3 from the list [1, 2, 3, 4, 5]."
      ],
      "metadata": {
        "id": "2S3n3zWVs-yX"
      }
    },
    {
      "cell_type": "code",
      "source": [
        "my_list=[1,2,3,4,5]\n",
        "my_list.remove(3)\n",
        "print(my_list)"
      ],
      "metadata": {
        "colab": {
          "base_uri": "https://localhost:8080/"
        },
        "id": "nMJ5d7s4tHN8",
        "outputId": "7ea56216-09dc-477a-fc91-f24dd05e30b1"
      },
      "execution_count": 20,
      "outputs": [
        {
          "output_type": "stream",
          "name": "stdout",
          "text": [
            "[1, 2, 4, 5]\n"
          ]
        }
      ]
    },
    {
      "cell_type": "markdown",
      "source": [
        "**9**. Write a code to access the second element in the list ['a', 'b', 'c', 'd']."
      ],
      "metadata": {
        "id": "4VVp_pTbtN6M"
      }
    },
    {
      "cell_type": "code",
      "source": [
        "list=[\"a\",\"b\",\"c\",\"d\"]\n",
        "list[1]"
      ],
      "metadata": {
        "colab": {
          "base_uri": "https://localhost:8080/",
          "height": 35
        },
        "id": "CyYZxwaJtYgV",
        "outputId": "dbb4b7a3-f65e-4e5e-b3fd-ed3638288046"
      },
      "execution_count": 21,
      "outputs": [
        {
          "output_type": "execute_result",
          "data": {
            "text/plain": [
              "'b'"
            ],
            "application/vnd.google.colaboratory.intrinsic+json": {
              "type": "string"
            }
          },
          "metadata": {},
          "execution_count": 21
        }
      ]
    },
    {
      "cell_type": "markdown",
      "source": [
        "**10**. Write a code to reverse the list [10, 20, 30, 40, 50]."
      ],
      "metadata": {
        "id": "rmM1LuyTt6nX"
      }
    },
    {
      "cell_type": "code",
      "source": [
        "list=[10,20,30,40,50]\n",
        "list.reverse()\n",
        "print(list)"
      ],
      "metadata": {
        "colab": {
          "base_uri": "https://localhost:8080/"
        },
        "id": "L7GEhBlKuCiz",
        "outputId": "130f9bc8-1992-4024-eec4-6e30d81fd44a"
      },
      "execution_count": 26,
      "outputs": [
        {
          "output_type": "stream",
          "name": "stdout",
          "text": [
            "[50, 40, 30, 20, 10]\n"
          ]
        }
      ]
    },
    {
      "cell_type": "markdown",
      "source": [
        "**11**. Write a code to create a tuple with the elements 100, 200, 300 and print it."
      ],
      "metadata": {
        "id": "6z6nSh_cvIWh"
      }
    },
    {
      "cell_type": "code",
      "source": [
        "tuple=(100,200,300)\n",
        "print(tuple)"
      ],
      "metadata": {
        "colab": {
          "base_uri": "https://localhost:8080/"
        },
        "id": "et4Gc-j1v7Oj",
        "outputId": "04de6679-caac-42af-8256-c54eeb1cc27a"
      },
      "execution_count": 29,
      "outputs": [
        {
          "output_type": "stream",
          "name": "stdout",
          "text": [
            "(100, 200, 300)\n"
          ]
        }
      ]
    },
    {
      "cell_type": "markdown",
      "source": [
        "**12**. Write a code to access the second-to-last element of the tuple ('red', 'green', 'blue', 'yellow')."
      ],
      "metadata": {
        "id": "_97f9iNcwZAF"
      }
    },
    {
      "cell_type": "code",
      "source": [
        "tuple=('red','green','blue','yellow')\n",
        "tuple[1:]"
      ],
      "metadata": {
        "colab": {
          "base_uri": "https://localhost:8080/"
        },
        "id": "KnR8mdp5wkwe",
        "outputId": "8d54026b-57fe-4520-cf3a-6c569b469ea5"
      },
      "execution_count": 30,
      "outputs": [
        {
          "output_type": "execute_result",
          "data": {
            "text/plain": [
              "('green', 'blue', 'yellow')"
            ]
          },
          "metadata": {},
          "execution_count": 30
        }
      ]
    },
    {
      "cell_type": "markdown",
      "source": [
        "**13**. Write a code to find the minimum number in the tuple (10, 20, 5, 15)."
      ],
      "metadata": {
        "id": "pZGl0HQ5xNI0"
      }
    },
    {
      "cell_type": "code",
      "source": [
        "tuple=(10,20,5,15)\n",
        "min(tuple)"
      ],
      "metadata": {
        "colab": {
          "base_uri": "https://localhost:8080/"
        },
        "id": "CqW2wcuExdsR",
        "outputId": "f5b23904-6634-439f-cc4e-3f7475e07f77"
      },
      "execution_count": 31,
      "outputs": [
        {
          "output_type": "execute_result",
          "data": {
            "text/plain": [
              "5"
            ]
          },
          "metadata": {},
          "execution_count": 31
        }
      ]
    },
    {
      "cell_type": "markdown",
      "source": [
        "**14**. Write a code to find the index of the element \"cat\" in the tuple ('dog', 'cat', 'rabbit')."
      ],
      "metadata": {
        "id": "NYxKNuuyxxBp"
      }
    },
    {
      "cell_type": "code",
      "source": [
        "tuple=('dog','cat','rabbit')\n",
        "tuple.index('cat')"
      ],
      "metadata": {
        "colab": {
          "base_uri": "https://localhost:8080/"
        },
        "id": "aB9xiY3qx6PV",
        "outputId": "d83de715-9f77-4804-d7ee-49273333768b"
      },
      "execution_count": 32,
      "outputs": [
        {
          "output_type": "execute_result",
          "data": {
            "text/plain": [
              "1"
            ]
          },
          "metadata": {},
          "execution_count": 32
        }
      ]
    },
    {
      "cell_type": "markdown",
      "source": [
        "**15**. Write a code to create a tuple containing three different fruits and check if \"kiwi\" is in it."
      ],
      "metadata": {
        "id": "jEGdsX6NyEQc"
      }
    },
    {
      "cell_type": "code",
      "source": [
        "fruits=(\"apple\",\"mango\",\"banana\",\"kiwi\",\"strawberry\",\"pineapple\")\n",
        "if \"kiwi\" in fruits:\n",
        "  print(\"kiwi is in the tuple\")\n",
        "else:\n",
        "  print(\"kiwi is not in the tuple\")"
      ],
      "metadata": {
        "colab": {
          "base_uri": "https://localhost:8080/"
        },
        "id": "9cLVRMVFyOdC",
        "outputId": "db6b1c82-762b-4dd7-8c3f-33a70839f26e"
      },
      "execution_count": 36,
      "outputs": [
        {
          "output_type": "stream",
          "name": "stdout",
          "text": [
            "kiwi is in the tuple\n"
          ]
        }
      ]
    },
    {
      "cell_type": "markdown",
      "source": [
        "**16**. Write a code to create a set with the elements 'a', 'b', 'c' and print it."
      ],
      "metadata": {
        "id": "7ar996FBzzbb"
      }
    },
    {
      "cell_type": "code",
      "source": [
        "my_set={\"a\",\"b\",\"c\"}\n",
        "print(my_set)"
      ],
      "metadata": {
        "colab": {
          "base_uri": "https://localhost:8080/"
        },
        "id": "cA-urB4Fz83D",
        "outputId": "6bff8d24-201f-4a18-a850-4ac53977006a"
      },
      "execution_count": 37,
      "outputs": [
        {
          "output_type": "stream",
          "name": "stdout",
          "text": [
            "{'c', 'b', 'a'}\n"
          ]
        }
      ]
    },
    {
      "cell_type": "markdown",
      "source": [
        "**17**. Write a code to clear all elements from the set {1, 2, 3, 4, 5}."
      ],
      "metadata": {
        "id": "pituxcq40Xrc"
      }
    },
    {
      "cell_type": "code",
      "source": [
        "set={1,2,3,4,5}\n",
        "set.clear()\n",
        "print(set)"
      ],
      "metadata": {
        "colab": {
          "base_uri": "https://localhost:8080/"
        },
        "id": "TI3bxEKU0ey8",
        "outputId": "2b044970-5684-4e1e-e373-4c6752150aec"
      },
      "execution_count": 39,
      "outputs": [
        {
          "output_type": "stream",
          "name": "stdout",
          "text": [
            "set()\n"
          ]
        }
      ]
    },
    {
      "cell_type": "markdown",
      "source": [
        "**18**. Write a code to remove the element 4 from the set {1, 2, 3, 4}."
      ],
      "metadata": {
        "id": "z9q4Jjqa0-mL"
      }
    },
    {
      "cell_type": "code",
      "source": [
        "set={1,2,3,4}\n",
        "set.remove(4)\n",
        "print(set)"
      ],
      "metadata": {
        "colab": {
          "base_uri": "https://localhost:8080/"
        },
        "id": "H-e91uJS1Gu3",
        "outputId": "b7d8a540-d2db-47d7-c0bc-0d161ef82c61"
      },
      "execution_count": 40,
      "outputs": [
        {
          "output_type": "stream",
          "name": "stdout",
          "text": [
            "{1, 2, 3}\n"
          ]
        }
      ]
    },
    {
      "cell_type": "markdown",
      "source": [
        "**19**. Write a code to find the union of two sets {1, 2, 3} and {3, 4, 5}."
      ],
      "metadata": {
        "id": "9B5hfZsv1aXa"
      }
    },
    {
      "cell_type": "code",
      "source": [
        "set1={1,2,3}\n",
        "set2={3,4,5}\n",
        "print(set1|set2)"
      ],
      "metadata": {
        "colab": {
          "base_uri": "https://localhost:8080/"
        },
        "id": "JMbbAdrq1iKb",
        "outputId": "8a959c7b-5ce2-4628-af8b-e60f72218c0e"
      },
      "execution_count": 42,
      "outputs": [
        {
          "output_type": "stream",
          "name": "stdout",
          "text": [
            "{1, 2, 3, 4, 5}\n"
          ]
        }
      ]
    },
    {
      "cell_type": "markdown",
      "source": [
        "**20**. Write a code to find the intersection of two sets {1, 2, 3} and {2, 3, 4}.\n",
        "\n"
      ],
      "metadata": {
        "id": "ESAhSrhy2QRx"
      }
    },
    {
      "cell_type": "code",
      "source": [
        "set1={1,2,3}\n",
        "set2={2,3,4}\n",
        "print(set1&set2)"
      ],
      "metadata": {
        "colab": {
          "base_uri": "https://localhost:8080/"
        },
        "id": "NtyFbU-h2aeR",
        "outputId": "f5e0346b-06a7-41f2-bca1-cb27d2af6b2e"
      },
      "execution_count": 43,
      "outputs": [
        {
          "output_type": "stream",
          "name": "stdout",
          "text": [
            "{2, 3}\n"
          ]
        }
      ]
    },
    {
      "cell_type": "markdown",
      "source": [
        "**21**. Write a code to create a dictionary with the keys \"name\", \"age\", and \"city\", and print it."
      ],
      "metadata": {
        "id": "BfbCEZJc2yLT"
      }
    },
    {
      "cell_type": "code",
      "source": [
        "my_info={\"name\":\"Barsa\",\"age\":26,\"city\":\"Jajpur\"}\n",
        "print(my_info)"
      ],
      "metadata": {
        "colab": {
          "base_uri": "https://localhost:8080/"
        },
        "id": "xfIMF-bg29KR",
        "outputId": "9b413e02-3374-455e-de52-77266da467e6"
      },
      "execution_count": 49,
      "outputs": [
        {
          "output_type": "stream",
          "name": "stdout",
          "text": [
            "{'name': 'Barsa', 'age': 26, 'city': 'Jajpur'}\n"
          ]
        }
      ]
    },
    {
      "cell_type": "markdown",
      "source": [
        "**22**. Write a code to add a new key-value pair \"country\": \"USA\" to the dictionary {'name': 'John', 'age': 25}."
      ],
      "metadata": {
        "id": "R2f6m2sS3nOy"
      }
    },
    {
      "cell_type": "code",
      "source": [
        "persons_info={'name': 'John', 'age': 25}\n",
        "persons_info[\"country\"]=\"USA\"\n",
        "print(persons_info)"
      ],
      "metadata": {
        "colab": {
          "base_uri": "https://localhost:8080/"
        },
        "id": "NTYOLZQn3xFk",
        "outputId": "dbc270e7-d546-4c58-d8d5-0355420e41dc"
      },
      "execution_count": 50,
      "outputs": [
        {
          "output_type": "stream",
          "name": "stdout",
          "text": [
            "{'name': 'John', 'age': 25, 'country': 'USA'}\n"
          ]
        }
      ]
    },
    {
      "cell_type": "markdown",
      "source": [
        "**23**. Write a code to access the value associated with the key \"name\" in the dictionary {'name': 'Alice', 'age': 30}."
      ],
      "metadata": {
        "id": "XzuAnGjE4qfc"
      }
    },
    {
      "cell_type": "code",
      "source": [
        "dict={\"name\":\"alice\",\"age\":30}\n",
        "dict[\"name\"]"
      ],
      "metadata": {
        "colab": {
          "base_uri": "https://localhost:8080/",
          "height": 35
        },
        "id": "sbr28laW4zZr",
        "outputId": "1b93dd80-5808-408a-e1ba-fa4883da172e"
      },
      "execution_count": 51,
      "outputs": [
        {
          "output_type": "execute_result",
          "data": {
            "text/plain": [
              "'alice'"
            ],
            "application/vnd.google.colaboratory.intrinsic+json": {
              "type": "string"
            }
          },
          "metadata": {},
          "execution_count": 51
        }
      ]
    },
    {
      "cell_type": "markdown",
      "source": [
        "**24**. Write a code to remove the key \"age\" from the dictionary {'name': 'Bob', 'age': 22, 'city': 'New York'}."
      ],
      "metadata": {
        "id": "Y7p2CE4f5bAU"
      }
    },
    {
      "cell_type": "code",
      "source": [
        "dict={\"name\": \"bob\", \"age\": 22, \"city\": \"new york\"}\n",
        "dict.pop(\"age\")\n",
        "print(dict)"
      ],
      "metadata": {
        "colab": {
          "base_uri": "https://localhost:8080/"
        },
        "id": "shCIT1le5nIe",
        "outputId": "b95d73b5-4f80-4923-fb34-ccb9ec8947cc"
      },
      "execution_count": 52,
      "outputs": [
        {
          "output_type": "stream",
          "name": "stdout",
          "text": [
            "{'name': 'bob', 'city': 'new york'}\n"
          ]
        }
      ]
    },
    {
      "cell_type": "markdown",
      "source": [
        "**25**.  Write a code to check if the key \"city\" exists in the dictionary {'name': 'Alice', 'city': 'Paris'}."
      ],
      "metadata": {
        "id": "qsNr_7Gw7Q-E"
      }
    },
    {
      "cell_type": "code",
      "source": [
        "dict={\"name\":\"alice\",\"city\":\"paris\"}\n",
        "if \"city\" in dict:\n",
        "  print(\"city is in the dictionary\")"
      ],
      "metadata": {
        "colab": {
          "base_uri": "https://localhost:8080/"
        },
        "id": "gGmuvSDg7e1q",
        "outputId": "be8e1377-12b4-4f51-f314-666c6b15c2f4"
      },
      "execution_count": 53,
      "outputs": [
        {
          "output_type": "stream",
          "name": "stdout",
          "text": [
            "city is in the dictionary\n"
          ]
        }
      ]
    },
    {
      "cell_type": "markdown",
      "source": [
        "**26**. Write a code to create a list, a tuple, and a dictionary, and print them all."
      ],
      "metadata": {
        "id": "zTKT6wf78VXN"
      }
    },
    {
      "cell_type": "code",
      "source": [
        "my_list=[\"apple\",1,2.2,True,3+5j]\n",
        "print(my_list)\n",
        "\n",
        "my_tuple=(\"apple\",1,2.2,True,\"mango\")\n",
        "print(my_tuple)\n",
        "\n",
        "my_dict={\"name\":\"Barsa\",\"age\":26}\n",
        "print(my_dict)\n"
      ],
      "metadata": {
        "colab": {
          "base_uri": "https://localhost:8080/"
        },
        "id": "inKNPlsF8g-g",
        "outputId": "ebaf7a1d-e273-4063-a746-85e3c4993eb6"
      },
      "execution_count": 54,
      "outputs": [
        {
          "output_type": "stream",
          "name": "stdout",
          "text": [
            "['apple', 1, 2.2, True, (3+5j)]\n",
            "('apple', 1, 2.2, True, 'mango')\n",
            "{'name': 'Barsa', 'age': 26}\n"
          ]
        }
      ]
    },
    {
      "cell_type": "markdown",
      "source": [
        "**27**. Write a code to create a list of 5 random numbers between 1 and 100, sort it in ascending order, and print the\n",
        "result.(replaced)"
      ],
      "metadata": {
        "id": "l0AQJumf9Vda"
      }
    },
    {
      "cell_type": "code",
      "source": [
        "import random\n",
        "random_numbers=[random.randint(1,100) for _ in range(5)]\n",
        "random_numbers.sort()\n",
        "print(random_numbers)\n"
      ],
      "metadata": {
        "colab": {
          "base_uri": "https://localhost:8080/"
        },
        "id": "6gfh59iS9eFZ",
        "outputId": "5585c32c-0055-4e9d-9451-5316ce6ba1cb"
      },
      "execution_count": 57,
      "outputs": [
        {
          "output_type": "stream",
          "name": "stdout",
          "text": [
            "[16, 34, 73, 78, 80]\n"
          ]
        }
      ]
    },
    {
      "cell_type": "markdown",
      "source": [
        "**28**. Write a code to create a list with strings and print the element at the third index."
      ],
      "metadata": {
        "id": "hQsGkIpY-AkK"
      }
    },
    {
      "cell_type": "code",
      "source": [
        "list=[\"apple\",\"Barsa\",\"Bitu\",1,2.2,True]\n",
        "print(list[3])"
      ],
      "metadata": {
        "colab": {
          "base_uri": "https://localhost:8080/"
        },
        "id": "aqEa4-2u-iIP",
        "outputId": "53cd703e-e068-497c-f2a2-7a53da3bbcf0"
      },
      "execution_count": 58,
      "outputs": [
        {
          "output_type": "stream",
          "name": "stdout",
          "text": [
            "1\n"
          ]
        }
      ]
    },
    {
      "cell_type": "markdown",
      "source": [
        "**29**. Write a code to combine two dictionaries into one and print the result.\n",
        "\n"
      ],
      "metadata": {
        "id": "RlSP-UeV_B4c"
      }
    },
    {
      "cell_type": "code",
      "source": [
        "dict1={\"name\":\"barsa\",\"age\":25}\n",
        "dict2={\"city\":\"jajpur\",\"country\":\"india\"}\n",
        "dict1.update(dict2)\n",
        "print(dict1)"
      ],
      "metadata": {
        "colab": {
          "base_uri": "https://localhost:8080/"
        },
        "id": "L8noAV64BGrR",
        "outputId": "1640dcbb-871c-4174-b6b7-d3b764c0f39d"
      },
      "execution_count": 60,
      "outputs": [
        {
          "output_type": "stream",
          "name": "stdout",
          "text": [
            "{'name': 'barsa', 'age': 25, 'city': 'jajpur', 'country': 'india'}\n"
          ]
        }
      ]
    },
    {
      "cell_type": "markdown",
      "source": [
        "**30**. Write a code to convert a list of strings into a set."
      ],
      "metadata": {
        "id": "1e6l4y3VJy1i"
      }
    },
    {
      "cell_type": "code",
      "source": [
        "list=[\"apple\",\"mango\",\"banana\",\"kiwi\"]\n",
        "set=(list)\n",
        "print(set)"
      ],
      "metadata": {
        "colab": {
          "base_uri": "https://localhost:8080/"
        },
        "id": "GIqDnWjSk8r9",
        "outputId": "f63cf671-cbbb-4d4a-a7dc-168e1e3c8f28"
      },
      "execution_count": 159,
      "outputs": [
        {
          "output_type": "stream",
          "name": "stdout",
          "text": [
            "['apple', 'mango', 'banana', 'kiwi']\n"
          ]
        }
      ]
    }
  ]
}